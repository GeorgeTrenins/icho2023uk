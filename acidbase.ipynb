{
 "cells": [
  {
   "cell_type": "markdown",
   "id": "08307855",
   "metadata": {},
   "source": [
    "# Acid-Base Equilibria"
   ]
  },
  {
   "cell_type": "markdown",
   "id": "6e161bdb",
   "metadata": {},
   "source": [
    "## Table of contents\n",
    "1. [Speciation and the Henderson–Hasselbalch equation](#speciation)\n",
    "2. [pH of a monoprotic acid](#monoprotic)\n",
    "3. [Titrating a monoprotic acid](#monotitration)\n",
    "4. [Buffer capacities](#buffer)\n",
    "5. [Polyprotic acids](#polyprotic)"
   ]
  },
  {
   "cell_type": "markdown",
   "id": "a7aa8e97",
   "metadata": {},
   "source": [
    "## Speciation and the Henderson–Hasselbalch equation <a name=\"speciation\"></a>\n",
    "\n",
    "For a monoprotic acid,\n",
    "$$ \\mathrm{pH} = \\mathrm{p}K_\\mathrm{a} + \\log_{10} \\left( \\frac{[\\mathrm{A}^{-}]}{[\\mathrm{HA}]} \\right) $$\n",
    "and in general\n",
    "$$ k \\cdot \\mathrm{pH} = \\mathrm{p}K_{\\mathrm{a},1} + \\ldots + \\mathrm{p}K_{\\mathrm{a},k} + \\log_{10} \\left( \\frac{[\\mathrm{H}_{n-k}\\mathrm{A}^{k-}]}{[\\mathrm{H}_n\\mathrm{A}]} \\right) $$\n",
    "\n",
    "Then the ratio of a particular acid species relative to the total concentration as a function of pH is\n",
    "$$ \\frac{[\\mathrm{H}_{n-k}\\mathrm{A}^{k-}]}{c_a} = \\frac{[\\mathrm{H}_{n-k}\\mathrm{A}^{k-}]}{\\sum_{j=0}^{n}\n",
    "[\\mathrm{H}_{n-j}\\mathrm{A}^{j-}]} = \\frac{\\frac{[\\mathrm{H}_{n-k}\\mathrm{A}^{k-}]}{[\\mathrm{H}_n\\mathrm{A}]}}{1 +\\sum_{j=1}^{n}\n",
    "\\frac{[\\mathrm{H}_{n-j}\\mathrm{A}^{j-}]}{[\\mathrm{H}_n\\mathrm{A}]}} = \\frac{\n",
    " 10^{k\\cdot\\mathrm{pH} - (\\mathrm{p}K_{\\mathrm{a},1} + \\ldots + \\mathrm{p}K_{\\mathrm{a},k})}\n",
    "}{\n",
    "1 + \\sum_{j=1}^{n} 10^{j\\cdot\\mathrm{pH} - (\\mathrm{p}K_{\\mathrm{a},1} + \\ldots + \\mathrm{p}K_{\\mathrm{a},j})}\n",
    "}$$\n",
    "which can be visualised on a speciation diagram."
   ]
  },
  {
   "cell_type": "code",
   "execution_count": 1,
   "id": "8892cafd",
   "metadata": {},
   "outputs": [
    {
     "data": {
      "application/vnd.jupyter.widget-view+json": {
       "model_id": "540796a42d0c489dad8f5c42be2fbecb",
       "version_major": 2,
       "version_minor": 0
      },
      "text/plain": [
       "HBox(children=(Label(value='$pK_{\\\\text{a}}\\\\ $ values:'), FloatsInput(value=[1.3, 4.56, 5.9], format='.2f')))"
      ]
     },
     "metadata": {},
     "output_type": "display_data"
    },
    {
     "data": {
      "application/vnd.jupyter.widget-view+json": {
       "model_id": "47a319891c7e4b42b4064f3fa1798750",
       "version_major": 2,
       "version_minor": 0
      },
      "text/plain": [
       "Output()"
      ]
     },
     "metadata": {},
     "output_type": "display_data"
    }
   ],
   "source": [
    "from ipywidgets import interactive_output, FloatsInput, HBox, Label\n",
    "from IPython.display import display\n",
    "import numpy as np\n",
    "from matplotlib import pyplot as plt\n",
    "import warnings\n",
    "from acidbase import utils\n",
    "%matplotlib inline\n",
    "warnings.filterwarnings(\"ignore\")\n",
    "\n",
    "pH = np.linspace(0, 14, 500)\n",
    "\n",
    "def spec_update(pKas):\n",
    "    \n",
    "    pKas.sort()\n",
    "    \n",
    "    fig = plt.figure(constrained_layout=True, figsize=(6, 4))\n",
    "    ax = fig.add_subplot(111)\n",
    "    ax.set_xlim([-1,15])\n",
    "    ax.set_xlabel('pH')\n",
    "    ax.set_ylim([-10,110])\n",
    "    ax.set_ylabel(r'% conc.')\n",
    "    ax.set_title('Ion Speciation')\n",
    "    specs = utils.get_species(pH, *pKas)*100\n",
    "    for spec in specs:\n",
    "        ax.plot(pH, spec)\n",
    "    fig.show()\n",
    "    \n",
    "pKa_input = FloatsInput(\n",
    "    value=[1.3, 4.56, 5.90],\n",
    "    tag_style='',\n",
    "    format = '.2f'\n",
    ")\n",
    "\n",
    "lpKa_input = HBox([Label(value=r'$pK_{\\text{a}}\\ $ values:'), pKa_input])\n",
    "spec = interactive_output(spec_update, {'pKas' : pKa_input})\n",
    "display(lpKa_input, spec);\n"
   ]
  },
  {
   "cell_type": "markdown",
   "id": "ac2c8b97",
   "metadata": {},
   "source": [
    "## pH of a monoprotic acid <a name=\"monoprotic\"></a>\n",
    "\n",
    "In this setup, we know the total concentration of the acid in various states of ionisation, $c_a$, the acid dissociation constant, $K_a$, and the water ionisation constant $K_w = 10^{-14}$. The unknown quantities are the equilibrium concentrations $[\\mathrm{HA}]$, $[\\mathrm{A}^{-}]$, \n",
    "$[\\mathrm{OH}^{-}]$, and $[\\mathrm{H}^{+}]$. To solve for the four unknowns, we set up a system of four equations:\n",
    "\n",
    "$$\n",
    "\\begin{cases}\n",
    "K_a = \\tfrac{[\\mathrm{H}^{+}] [\\mathrm{A}^{-}]}{[\\mathrm{HA}]} & \\text{acid dissociation constant} \\\\\n",
    "\\rule[-0.25em]{0pt}{1.25em}\n",
    "K_w = [\\mathrm{H}^{+}] [\\mathrm{OH}^{-}] & \\text{water self-ionisation} \\\\\n",
    "\\rule[-0.25em]{0pt}{1.5em}\n",
    "c_a / c^{\\circ} = [\\mathrm{HA}] + [\\mathrm{A}^{-}] & \\text{mass balance} \\\\\n",
    "\\rule{0pt}{1.25em}\n",
    "[\\mathrm{H}^{+}] = [\\mathrm{OH}^{-}] + [\\mathrm{A}^{-}] & \\text{charge balance}\n",
    "\\end{cases}\n",
    "$$\n",
    "\n",
    "We can then eliminate all the unknowns except for $[\\mathrm{H}^{+}]$, leaving us with the cubic equation\n",
    "\n",
    "$$\n",
    "[\\mathrm{H}^{+}]^3 + K_a [\\mathrm{H}^{+}]^2 - \\left( \n",
    "K_w + K_a \\dfrac{c_a}{c^\\circ}\n",
    "\\right) [\\mathrm{H}^{+}] - K_a K_w = 0\n",
    "$$\n",
    "\n",
    "that can be solved for $[\\mathrm{H}^{+}]$ numerically."
   ]
  },
  {
   "cell_type": "code",
   "execution_count": 2,
   "id": "e940ab38",
   "metadata": {},
   "outputs": [
    {
     "data": {
      "application/vnd.jupyter.widget-view+json": {
       "model_id": "e511df7f96e14577870780d3fc577168",
       "version_major": 2,
       "version_minor": 0
      },
      "text/plain": [
       "interactive(children=(FloatText(value=0.001, description='\\\\(c_{\\\\mathrm{a}} / \\\\mathrm{M}\\\\)', step=0.0001), …"
      ]
     },
     "metadata": {},
     "output_type": "display_data"
    }
   ],
   "source": [
    "from ipywidgets import interact, FloatText\n",
    "from IPython.display import Markdown\n",
    "\n",
    "interact_manual = interact.options(manual=True, manual_name=\"Calculate pH\")\n",
    "\n",
    "def find_pH(ca, pKa):\n",
    "    ans = utils.find_pH(ca, pKa)\n",
    "    display(Markdown('$\\mathrm{{pH}} = {:.2f}$'.format(ans)))\n",
    "\n",
    "\n",
    "pKa = FloatText(\n",
    "    value=7.0,\n",
    "    step=0.5,\n",
    "    description=r'\\(\\mathrm{p}K_{\\mathrm{a}}\\)',\n",
    "    disabled=False\n",
    ")\n",
    "\n",
    "ca = FloatText(\n",
    "    value=0.001,\n",
    "    step=0.0001,\n",
    "    description=r'\\(c_{\\mathrm{a}} / \\mathrm{M}\\)',\n",
    "    disabled=False\n",
    ")\n",
    "\n",
    "interact_manual(find_pH, ca=ca, pKa=pKa);"
   ]
  },
  {
   "cell_type": "markdown",
   "id": "4f1b0d1a",
   "metadata": {},
   "source": [
    "## Titrating a monoprotic acid <a name=\"monotitration\"></a>\n",
    "\n",
    "Let us now suppose that apart from the monoprotic acid, our solution contains a strong base $\\mathrm{BOH}$ that is essentially fully ionised, $\\mathrm{BOH} \\to \\mathrm{B}^{+} + \\mathrm{OH}^{-}$. The total concentration of the base\n",
    "$c_b = [\\mathrm{B}^{+}] + [\\mathrm{BOH}] \\approx [\\mathrm{B}^{+}]$ is given, so that we have the same four unknowns as in the previous section, and the only modification is to the charge-balance equation:\n",
    "\n",
    "$$\n",
    "\\begin{cases}\n",
    "K_a = \\tfrac{[\\mathrm{H}^{+}] [\\mathrm{A}^{-}]}{[\\mathrm{HA}]} & \\text{acid dissociation constant} \\\\\n",
    "\\rule[-0.25em]{0pt}{1.25em}\n",
    "K_w = [\\mathrm{H}^{+}] [\\mathrm{OH}^{-}] & \\text{water self-ionisation} \\\\\n",
    "\\rule[-0.25em]{0pt}{1.5em}\n",
    "c_a / c^{\\circ} = [\\mathrm{HA}] + [\\mathrm{A}^{-}] & \\text{mass balance} \\\\\n",
    "\\rule{0pt}{1.25em}\n",
    "[\\mathrm{H}^{+}] + [\\mathrm{B}^{+}] = [\\mathrm{OH}^{-}] + [\\mathrm{A}^{-}] & \\text{charge balance}\n",
    "\\end{cases}\n",
    "$$\n",
    "\n",
    "This leads to the following new cubic equation for $[\\mathrm{H}^{+}]$,\n",
    "\n",
    "$$\n",
    "[\\mathrm{H}^{+}]^3 + \\left( K_a + \\dfrac{c_b}{c^\\circ} \\right) [\\mathrm{H}^{+}]^2 - \\left( \n",
    "K_w + K_a \\dfrac{c_a}{c^\\circ} -  K_a \\dfrac{c_b}{c^\\circ}\n",
    "\\right) [\\mathrm{H}^{+}] - K_a K_w = 0\n",
    "$$\n",
    "\n",
    "To complete the description of a titration experiment, we express the _current_ concentrations of acid and base-derived species in terms of the amount of the analyte, $n_a$, the initial volume of its solution, $V_i$, the concentration of base in the standard solution, $C$, and volume of the titrand that has been added so far, $V_t$. This gives\n",
    "\n",
    "$$\n",
    "c_a = \\dfrac{n_a}{V_i + V_t} \\qquad c_b = \\dfrac{C \\cdot V_t}{V_i + V_t} \n",
    "$$\n",
    "\n",
    "which we can use to construct and solve the cubic equation from above. Below you can set up and plot the corresponding titration curve. **Note:** the maximum value of the volume added is capped at $50~\\mathrm{cm}^3$, so make sure to choose sensible values of $n_a$ and $C$. The equivalence point is shown with a soild vertical line and the corresponding pH with a horizontal line."
   ]
  },
  {
   "cell_type": "code",
   "execution_count": 3,
   "id": "b3b6dbc6",
   "metadata": {},
   "outputs": [
    {
     "data": {
      "application/vnd.jupyter.widget-view+json": {
       "model_id": "b9fdcd80f50e451e84e953b4c3b8b1f2",
       "version_major": 2,
       "version_minor": 0
      },
      "text/plain": [
       "VBox(children=(HBox(children=(VBox(children=(HBox(children=(FloatText(value=4.76, description='\\\\(\\\\mathrm{p}K…"
      ]
     },
     "metadata": {},
     "output_type": "display_data"
    }
   ],
   "source": [
    "from ipywidgets import interactive, Layout, VBox\n",
    "\n",
    "npts = 1000\n",
    "\n",
    "def get_equiv_pH(equiv, V_add, pH):\n",
    "    \"\"\"Approximate the pH at the equivalence point \n",
    "    using linear interpolation.\n",
    "    \n",
    "    Args:\n",
    "        equiv (float): volume of added titrand at the equivalence point\n",
    "        V_add (1d-array): list of added volumes during titration\n",
    "        pH (1d-array): matching list of pH values\n",
    "    \"\"\"\n",
    "    # Bracket the equivalence volume between two elements in V_add\n",
    "    idx = np.argmin(np.abs(V_add-equiv))\n",
    "    V0 = V_add[idx]\n",
    "    if V0 > equiv:\n",
    "        b = (idx-1, idx)\n",
    "    else:\n",
    "        b = (idx, idx+1)\n",
    "\n",
    "    if b[-1] >= len(V_add):\n",
    "        # prevent out-of-range error\n",
    "        ans = pH[-1] + 100\n",
    "    elif b[0] == -1:\n",
    "        # prevent out-of-range error\n",
    "        ans = pH[0] - 100\n",
    "    else:\n",
    "        # linear interpolation\n",
    "        slope = (pH[b[1]] - pH[b[0]])/(V_add[b[1]] - V_add[b[0]])\n",
    "        ans = slope*(equiv-V_add[b[0]]) + pH[b[0]]\n",
    "    return ans\n",
    "\n",
    "def plot_pH(na, pKa, Vi, C):\n",
    "    \"\"\"Plot the titration curve for a monoprotic acid reacting\n",
    "    with a strong base.\n",
    "    \n",
    "    Args:\n",
    "        na (float): amount of titrand acid\n",
    "        pKa (float): negative decimal log of acid dissociation constant\n",
    "        Vi (float): initial volume of titrand solution in mL\n",
    "        C (float): concentration of the strong base solution\n",
    "    \"\"\"\n",
    "    \n",
    "    fig = plt.figure(constrained_layout=True, figsize=(6, 4))\n",
    "    ax = fig.add_subplot(111)\n",
    "    \n",
    "    Vmax = 50.0\n",
    "    V_add = np.linspace(0, Vmax, npts)\n",
    "    ax.set_xlim(-5, Vmax+5)\n",
    "    ax.set_xlabel(r'$V_{\\mathrm{t}} / \\mathrm{mL}$')\n",
    "    ax.set_ylim(0, 14)\n",
    "    ax.set_ylabel(r'$\\mathrm{pH}$')\n",
    "    ax.set_title('Titration Curve')\n",
    "    \n",
    "    # Convert volumes to litres\n",
    "    Vi = Vi/1000\n",
    "    Vmax = Vmax/1000\n",
    "    # Acid/base counterion concentrations along titration curve\n",
    "    V_add = np.linspace(0, Vmax, npts)\n",
    "    ca = na/(Vi + V_add)\n",
    "    cb = C*V_add/(Vi+V_add)\n",
    "    # Corresonding pH values\n",
    "    pH = []\n",
    "    for x, y in zip(ca, cb):\n",
    "        pH.append(utils.find_pH(x, pKa, counterion=y))\n",
    "    ax.plot(V_add*1000, np.asarray(pH))\n",
    "    # Equivalence point\n",
    "    equiv = 1000*na/C\n",
    "    ax.axvline(x=equiv, ls='-', c='k', lw='1')\n",
    "    ax.axhline(y=get_equiv_pH(equiv, V_add*1000, pH), ls='-', c='k', lw='1')\n",
    "    fig.show()\n",
    "    \n",
    "pKa = FloatText(\n",
    "        value=4.76,\n",
    "        step=0.5,\n",
    "        description=r'\\(\\mathrm{p}K_{\\mathrm{a}}\\)',\n",
    "        disabled=False\n",
    "    )\n",
    "\n",
    "na = FloatText(\n",
    "    value=0.0001,\n",
    "    step=0.00005,\n",
    "    description=r'\\(n_{\\mathrm{a}} / \\mathrm{M}\\)',\n",
    "    disabled=False\n",
    ")\n",
    "\n",
    "Vi = FloatText(\n",
    "    value=100.0,\n",
    "    step=25.0,\n",
    "    description=r'\\(V_{\\mathrm{i}} / \\mathrm{mL}\\)',\n",
    "    disabled=False\n",
    ")\n",
    "\n",
    "C = FloatText(\n",
    "    value=0.004,\n",
    "    step=0.0001,\n",
    "    description=r'\\(C / \\mathrm{M}\\)',\n",
    "    disabled=False\n",
    ")\n",
    "\n",
    "\n",
    "\n",
    "widget=interactive(\n",
    "    plot_pH, {'manual' : True, 'manual_name' : 'Plot curve'}, \n",
    "    na=na, pKa=pKa, Vi=Vi, C=C)\n",
    "\n",
    "box_layout = Layout(width='70%', justify_content='center')\n",
    "\n",
    "top = HBox([pKa, na])\n",
    "bottom =  HBox([Vi, C])\n",
    "controls = HBox([VBox([top, bottom, widget.children[-2]], layout=box_layout),])\n",
    "\n",
    "display(VBox([controls,] + list(widget.children[-1:])))"
   ]
  },
  {
   "cell_type": "markdown",
   "id": "b9c4695e",
   "metadata": {},
   "source": [
    "## Buffer capacities <a name=\"buffer\"></a>\n",
    "\n",
    "We can turn the plot from the previous section on its side to see how much strong base has to be added to an acid solution in order to change its pH by a specified amount. Below is shown a plot for a 0.01-molar solution of a strong acid ($\\mathrm{pK_a} = -7)$, from which we see that the concentration of the base must become comparable to the concentration of the acid before any appreciable change in pH can occur. However, once $c_b \\approx c_a$, a tiny amount of additional base can cause the pH to jump by several units (which corresponds to $[\\mathrm{H}^{+}]$ changing by several orders of magnitude), with the jump centred on pH = 7. This can be undesirable for systems that are highly sensitive to the concentration of $\\mathrm{H}^{+}$.\n",
    "\n",
    "<p float=\"center\">\n",
    "  <img src=\"acidbase/buffer_strong.png\" width=\"400\" />\n",
    "</p>\n",
    "\n",
    "Contrast this with the behaviour of a week acid ($\\mathrm{pK_a} = +7$; note change in the x-axis scale). The range of pH that was previously highly sensitive to the amount of added base is now broken up, such that the response around $\\mathrm{pH} \\approx \\mathrm{pK_a}$ is much more gentle. The weak acid acts as a \"buffer\" that slows the change in the acidity of a solution.\n",
    "\n",
    "<p float=\"center\">\n",
    "  <img src=\"acidbase/buffer_weak.png\" width=\"400\" />\n",
    "</p>\n",
    "\n",
    "This is quantified by the buffer capacity $ \\beta = \\dfrac{\\mathrm{d}(c_b/c^{\\circ})}{\\mathrm{d}(\\mathrm{pH})}, $ which is just the slope of the above graph. To calculate $\\beta$, we can rearrange the charge-balance equation as\n",
    "\n",
    "$$\n",
    "c_b / c^{\\circ}  = [\\mathrm{OH}^{-}] + [\\mathrm{A}^{-}] - [\\mathrm{H}^{+}] = \\dfrac{K_w}{[\\mathrm{H}^{+}]} + \\dfrac{c_a K_a}{[\\mathrm{H}^{+}] + K_a} - [\\mathrm{H}^{+}] \n",
    "$$\n",
    "\n",
    "and differentiate with respect to pH, making use of the chain rule\n",
    "\n",
    "$$\n",
    "\\dfrac{\\mathrm{d}(\\mathrm{pH})}{\\mathrm{d}[\\mathrm{H}^{+}]} = -\\dfrac{1}{\\ln \\! 10 \\cdot [\\mathrm{H}^{+}]} \\quad \\Rightarrow \\quad\n",
    "\\dfrac{\\mathrm{d}[\\mathrm{H}^{+}]}{\\mathrm{d}(\\mathrm{pH})} = -\\ln \\! 10 \\cdot [\\mathrm{H}^{+}]\n",
    "$$\n",
    "\n",
    "so that\n",
    "\n",
    "$$\n",
    "\\beta = \\ln \\! 10 \\, \\left(\n",
    "\\dfrac{K_w}{[\\mathrm{H}^{+}]} + \\dfrac{c_a K_a [\\mathrm{H}^{+}]}{([\\mathrm{H}^{+}] + K_a)^2} + [\\mathrm{H}^{+}] \n",
    "\\right).\n",
    "$$\n",
    "\n",
    "You can use the interactive plot below to explore how this quantity changes with acid strength and concentration."
   ]
  },
  {
   "cell_type": "code",
   "execution_count": 4,
   "id": "89aafe12",
   "metadata": {},
   "outputs": [
    {
     "data": {
      "application/vnd.jupyter.widget-view+json": {
       "model_id": "913a81c9d6ac40c784f2b4f26c597ee4",
       "version_major": 2,
       "version_minor": 0
      },
      "text/plain": [
       "GridBox(children=(FloatSlider(value=4.0, description='\\\\(\\\\mathrm{p}K_{\\\\mathrm{a}}\\\\)', layout=Layout(grid_ar…"
      ]
     },
     "metadata": {},
     "output_type": "display_data"
    },
    {
     "data": {
      "application/vnd.jupyter.widget-view+json": {
       "model_id": "8213d54803ee4ff7a794d8a008239d82",
       "version_major": 2,
       "version_minor": 0
      },
      "text/plain": [
       "Output()"
      ]
     },
     "metadata": {},
     "output_type": "display_data"
    }
   ],
   "source": [
    "from ipywidgets import FloatSlider, GridBox\n",
    "\n",
    "# Create widgets\n",
    "pKa = FloatSlider(\n",
    "    min=2, max=12, step=0.025, value=4.0,\n",
    "    description=r'\\(\\mathrm{p}K_{\\mathrm{a}}\\)',\n",
    "    layout=Layout(width='auto', grid_area='pKa'))\n",
    "#\n",
    "ca = FloatSlider(\n",
    "        min=0.0, max=0.1, step=0.0001, value=0.02, \n",
    "        description=r'\\(c_{\\mathrm{a}}\\)',\n",
    "        layout=Layout(width='auto', grid_area='ca'))\n",
    "# Arrange widgets into grid\n",
    "controls = GridBox(children=[pKa, ca],\n",
    "    layout=Layout(\n",
    "        width='65%', grid_template_rows='auto',\n",
    "        grid_template_columns='100% 100%',\n",
    "        grid_template_areas='''\n",
    "        \"  pKa \"\n",
    "        \"  ca \"\n",
    "        ''')\n",
    "    )\n",
    "\n",
    "# Define\n",
    "def update_buff(pKa, ca):\n",
    "    fig = plt.figure(constrained_layout=True, figsize=(6, 4))\n",
    "    ax = fig.add_subplot(111)\n",
    "    pH = np.linspace(1.5, 12.5, 500)\n",
    "    ax.set_xlim([1,13])\n",
    "    ax.set_xlabel('pH')\n",
    "    ax.set_ylim([-0.005,0.08])\n",
    "    ax.set_ylabel(r'$\\beta$')\n",
    "    ax.set_title('Buffer capacity')    \n",
    "    beta = utils.beta(pH, ca, pKa)\n",
    "    ax.plot(pH, beta)\n",
    "    fig.show()\n",
    "\n",
    "wplot = interactive_output(update_buff, dict(pKa=pKa, ca=ca))\n",
    "display(controls,wplot)"
   ]
  },
  {
   "cell_type": "markdown",
   "id": "60bdb364",
   "metadata": {},
   "source": [
    "## Polyprotic acids <a name=\"polyprotic\"></a>\n",
    "\n",
    "All the preceding sections can be generalised to polyprotic acids. Here, we limit ourselves to the pH of pure acid solutions (titration curves and buffer capacities are left as exercises for the interested reader). \n",
    "Given an $n$-protic acid, the unknown quantities $[\\mathrm{H}_{n}\\mathrm{A}]$,\n",
    "$[\\mathrm{H}_{n-1}\\mathrm{A}^{-}],\\, \\ldots,\\, [\\mathrm{H}\\mathrm{A}^{(n-1)-}], \\, \n",
    "[\\mathrm{A}^{n-}]$, as well as $[\\mathrm{OH}^{-}]$ and $[\\mathrm{H}^{+}]$. The corresponding system of equations is:\n",
    "\n",
    "$$\n",
    "\\begin{cases}\n",
    "\\kappa_1 = K_{a,1} = \\tfrac{[\\mathrm{H}^{+}] [\\mathrm{H}_{n-1}\\mathrm{A}^{-}]}{[\\mathrm{H}_{n}\\mathrm{A}]} & \\text{first dissociation constant} \\\\\n",
    "\\ldots & \\\\\n",
    "\\kappa_j = K_{a,1}K_{a,2}\\cdots K_{a,j} = \\tfrac{[\\mathrm{H}^{+}]^{j} [\\mathrm{H}_{n-j}\\mathrm{A}^{j-}]}{[\\mathrm{H}_{n}\\mathrm{A}]} & j\\text{-th dissociation constant} \\\\\n",
    "\\ldots & \\\\\n",
    "\\rule[-0.25em]{0pt}{1.25em}\n",
    "K_w = [\\mathrm{H}^{+}] [\\mathrm{OH}^{-}] & \\text{water self-ionisation} \\\\\n",
    "\\rule[-0.25em]{0pt}{1.5em}\n",
    "c_a / c^{\\circ} = [\\mathrm{HA}] + [\\mathrm{A}^{-}] & \\text{mass balance} \\\\\n",
    "\\rule{0pt}{1.25em}\n",
    "[\\mathrm{H}^{+}] = [\\mathrm{OH}^{-}] + \\sum_{j=1}^{n} j \\cdot [\\mathrm{H}_{n-j}\\mathrm{A}^{j-}] & \\text{charge balance}\n",
    "\\end{cases}\n",
    "$$\n",
    "\n",
    "As before, we can eliminate all unknowns except $[\\mathrm{H}^{+}]$, resulting in an equation of order $n+2$,\n",
    "\n",
    "$$\n",
    "\\sum_{j=0}^{n+2} d_j [\\mathrm{H}^{+}]^{(n+2-j)} = 0, \\qquad d_j = \\kappa_{j} - (j-1) \\cdot \\dfrac{c_a}{c^{\\circ}} \\kappa_{j-1} - K_{w} \\kappa_{j-2}\n",
    "$$\n",
    "\n",
    "where \n",
    "\n",
    "$$\n",
    "\\kappa_j = \\begin{cases}\n",
    "K_{a,1}K_{a,2}\\cdots K_{a,j} &  1 \\leq j \\leq n \\\\\n",
    "1 & j = 0 \\\\\n",
    "0 & \\text{otherwise}\n",
    "\\end{cases}\n",
    "$$\n",
    "\n",
    "This can be solved numerically to yield the pH. You can explore the pH of different polyprotic acid solutions below, by specifying the $\\mathrm{p}K_\\mathrm{a}$ values and total acid concentration."
   ]
  },
  {
   "cell_type": "code",
   "execution_count": 5,
   "id": "085a1558",
   "metadata": {},
   "outputs": [
    {
     "data": {
      "application/vnd.jupyter.widget-view+json": {
       "model_id": "0ad379827b9040f98819003bf18484f4",
       "version_major": 2,
       "version_minor": 0
      },
      "text/plain": [
       "VBox(children=(FloatText(value=0.001, description='\\\\(c_{\\\\mathrm{a}} / \\\\mathrm{M}\\\\)', step=0.0001), HBox(ch…"
      ]
     },
     "metadata": {},
     "output_type": "display_data"
    },
    {
     "data": {
      "application/vnd.jupyter.widget-view+json": {
       "model_id": "27f1a7841b0c4a1eaff8a3e0ba02ab65",
       "version_major": 2,
       "version_minor": 0
      },
      "text/plain": [
       "Output()"
      ]
     },
     "metadata": {},
     "output_type": "display_data"
    }
   ],
   "source": [
    "def find_pH(ca, pKas):\n",
    "    pKas = np.sort(np.asarray(pKas))\n",
    "    ans = utils.find_pH(ca, *pKas)\n",
    "    display(Markdown('$\\mathrm{{pH}} = {:.2f}$'.format(ans)))\n",
    "\n",
    "\n",
    "ca = FloatText(\n",
    "    value=0.001,\n",
    "    step=0.0001,\n",
    "    description=r'\\(c_{\\mathrm{a}} / \\mathrm{M}\\)',\n",
    "    disabled=False\n",
    ")\n",
    "    \n",
    "pKa_input2 = FloatsInput(\n",
    "    value=[1.3, 4.56, 5.90],\n",
    "    tag_style='',\n",
    "    format = '.2f'\n",
    ")\n",
    "\n",
    "lpKa_input2 = VBox([\n",
    "    ca, HBox([Label(value=r'$pK_{\\text{a}}\\ $ values:'), pKa_input2])])\n",
    "spec = interactive_output(find_pH, {'ca' : ca, 'pKas' : pKa_input2})\n",
    "display(lpKa_input2, spec);"
   ]
  }
 ],
 "metadata": {
  "kernelspec": {
   "display_name": "Python 3 (ipykernel)",
   "language": "python",
   "name": "python3"
  },
  "language_info": {
   "codemirror_mode": {
    "name": "ipython",
    "version": 3
   },
   "file_extension": ".py",
   "mimetype": "text/x-python",
   "name": "python",
   "nbconvert_exporter": "python",
   "pygments_lexer": "ipython3",
   "version": "3.11.3"
  }
 },
 "nbformat": 4,
 "nbformat_minor": 5
}
